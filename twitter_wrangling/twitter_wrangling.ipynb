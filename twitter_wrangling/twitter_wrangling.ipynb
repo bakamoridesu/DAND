{
 "cells": [
  {
   "cell_type": "code",
   "execution_count": 1,
   "metadata": {},
   "outputs": [],
   "source": [
    "import pandas as pd\n",
    "import requests\n",
    "import os\n",
    "import tweepy\n",
    "import json"
   ]
  },
  {
   "cell_type": "markdown",
   "metadata": {},
   "source": [
    "# 1. Gather data"
   ]
  },
  {
   "cell_type": "markdown",
   "metadata": {},
   "source": [
    "### 1.1 Read the manually downloaded twitter archive:"
   ]
  },
  {
   "cell_type": "code",
   "execution_count": 102,
   "metadata": {},
   "outputs": [],
   "source": [
    "df_archive = pd.read_csv('twitter-archive-enhanced.csv')"
   ]
  },
  {
   "cell_type": "markdown",
   "metadata": {},
   "source": [
    "### 1.2 Read the file with breed predictions from server using requests:"
   ]
  },
  {
   "cell_type": "code",
   "execution_count": 103,
   "metadata": {},
   "outputs": [],
   "source": [
    "url = 'https://d17h27t6h515a5.cloudfront.net/topher/2017/August/599fd2ad_image-predictions/image-predictions.tsv'\n",
    "response = requests.get(url)"
   ]
  },
  {
   "cell_type": "code",
   "execution_count": 104,
   "metadata": {},
   "outputs": [
    {
     "name": "stdout",
     "output_type": "stream",
     "text": [
      "File successfully downloaded.\n"
     ]
    }
   ],
   "source": [
    "# if we get a correct response\n",
    "if(response.status_code == 200):\n",
    "    \n",
    "    # get the file name from URL\n",
    "    file_path = url.split('/')[-1]\n",
    "    \n",
    "    # save file to disc\n",
    "    with open(file_path, 'wb') as f:\n",
    "        f.write(response.content)\n",
    "        \n",
    "    # check if the file is downloaded\n",
    "    if(os.path.isfile(file_path)):\n",
    "        print('File successfully downloaded.')"
   ]
  },
  {
   "cell_type": "code",
   "execution_count": 105,
   "metadata": {},
   "outputs": [],
   "source": [
    "df_breeds = pd.read_csv('image-predictions.tsv', sep = '\\t')"
   ]
  },
  {
   "cell_type": "markdown",
   "metadata": {},
   "source": [
    "### 1.3 Request additional tweet info using API"
   ]
  },
  {
   "cell_type": "code",
   "execution_count": 74,
   "metadata": {},
   "outputs": [
    {
     "name": "stdout",
     "output_type": "stream",
     "text": [
      "Additional information already gathered via API and stored in \"statuses.txt\" file\n"
     ]
    }
   ],
   "source": [
    "# gather information or print that the information already gathered and stored in a file (for review)\n",
    "if(os.path.isfile('keys.txt')):\n",
    "    \n",
    "    # Read all the twitter access keys from file\n",
    "    with open('keys.txt', 'r') as keys:\n",
    "        consumer_key = keys.readline().strip()\n",
    "        consumer_secret = keys.readline().strip()\n",
    "        access_token = keys.readline().strip()\n",
    "        access_token_secret = keys.readline().strip()\n",
    "\n",
    "    auth = tweepy.OAuthHandler(consumer_key, consumer_secret)\n",
    "    auth.set_access_token(access_token, access_token_secret)\n",
    "    api = tweepy.API(auth, wait_on_rate_limit=True, wait_on_rate_limit_notify=True, compression=True)\n",
    "\n",
    "    errors = 0 \n",
    "    successes = 0\n",
    "    processed_count = 0  \n",
    "    error_statusids = []\n",
    "    \n",
    "    for status_id in df['tweet_id'].values:\n",
    "        # print every 100th status and current info\n",
    "        if(processed_count % 100 == 0):\n",
    "            print('Status % 2d of 2356.... successes : % 2d, errors : % 2d' %(processed_count, successes, errors))\n",
    "\n",
    "        try:\n",
    "            status = api.get_status(status_id, tweet_mode = 'extended')\n",
    "            with open('statuses.txt', 'a') as file:\n",
    "                json.dump(status._json, file)\n",
    "                file.write('\\n')\n",
    "            successes += 1\n",
    "        except:\n",
    "            errors += 1\n",
    "            error_statusids.append(status_id)\n",
    "        processed_count += 1\n",
    "    print(\"Gathering information completed. Successes : % 2d, Errors : % 2d\" %(successes, errors))\n",
    "    \n",
    "elif(os.path.isfile('statuses.txt')):\n",
    "    print('Additional information already gathered via API and stored in \"statuses.txt\" file')"
   ]
  },
  {
   "cell_type": "markdown",
   "metadata": {},
   "source": [
    "**Check some status that couldn't be processed**"
   ]
  },
  {
   "cell_type": "code",
   "execution_count": 80,
   "metadata": {},
   "outputs": [
    {
     "data": {
      "text/plain": [
       "[888202515573088257,\n",
       " 873697596434513921,\n",
       " 872668790621863937,\n",
       " 872261713294495745,\n",
       " 869988702071779329,\n",
       " 866816280283807744,\n",
       " 861769973181624320,\n",
       " 856602993587888130,\n",
       " 851953902622658560,\n",
       " 845459076796616705,\n",
       " 844704788403113984,\n",
       " 842892208864923648,\n",
       " 837012587749474308,\n",
       " 829374341691346946,\n",
       " 827228250799742977,\n",
       " 812747805718642688,\n",
       " 802247111496568832,\n",
       " 775096608509886464,\n",
       " 770743923962707968,\n",
       " 754011816964026368,\n",
       " 680055455951884288]"
      ]
     },
     "execution_count": 80,
     "metadata": {},
     "output_type": "execute_result"
    }
   ],
   "source": [
    "# show all error tweets IDs\n",
    "error_statusids"
   ]
  },
  {
   "cell_type": "code",
   "execution_count": 93,
   "metadata": {},
   "outputs": [
    {
     "data": {
      "text/plain": [
       "19     <a href=\"http://twitter.com/download/iphone\" r...\n",
       "95     <a href=\"http://twitter.com/download/iphone\" r...\n",
       "101    <a href=\"http://twitter.com/download/iphone\" r...\n",
       "104    <a href=\"http://twitter.com/download/iphone\" r...\n",
       "118    <a href=\"http://twitter.com/download/iphone\" r...\n",
       "Name: source, dtype: object"
      ]
     },
     "execution_count": 93,
     "metadata": {},
     "output_type": "execute_result"
    }
   ],
   "source": [
    "# show urls for errored tweets\n",
    "df[df['tweet_id'].isin(error_statusids)]['expanded_urls'].head()"
   ]
  },
  {
   "cell_type": "code",
   "execution_count": 95,
   "metadata": {},
   "outputs": [
    {
     "data": {
      "text/plain": [
       "'https://twitter.com/dog_rates/status/754011816964026368/photo/1,https://twitter.com/dog_rates/status/754011816964026368/photo/1'"
      ]
     },
     "execution_count": 95,
     "metadata": {},
     "output_type": "execute_result"
    }
   ],
   "source": [
    "# check one of the urls\n",
    "df[df['tweet_id'].isin(error_statusids)]['expanded_urls'].iloc[19]"
   ]
  },
  {
   "cell_type": "code",
   "execution_count": 101,
   "metadata": {},
   "outputs": [
    {
     "data": {
      "text/plain": [
       "404"
      ]
     },
     "execution_count": 101,
     "metadata": {},
     "output_type": "execute_result"
    }
   ],
   "source": [
    "# request first url\n",
    "url = df[df['tweet_id'].isin(error_statusids)]['expanded_urls'].iloc[19].split(',')[0]\n",
    "response = requests.get(url)\n",
    "response.status_code"
   ]
  },
  {
   "cell_type": "markdown",
   "metadata": {},
   "source": [
    "Ok, this tweet was deleted. That's why we can't get the information anymore."
   ]
  },
  {
   "cell_type": "markdown",
   "metadata": {},
   "source": [
    "**Read collected data to dataframe**"
   ]
  },
  {
   "cell_type": "code",
   "execution_count": 76,
   "metadata": {},
   "outputs": [
    {
     "data": {
      "text/plain": [
       "(2337, 32)"
      ]
     },
     "execution_count": 76,
     "metadata": {},
     "output_type": "execute_result"
    }
   ],
   "source": [
    "# Read the file line by line and store statuses in the array of jsons\n",
    "\n",
    "statuses = [json.loads(v.rstrip('\\n')) for v in open('statuses.txt')]\n",
    "\n",
    "# Create dataframe from list of dictionaries (jsons)\n",
    "\n",
    "df_statuses = pd.DataFrame(statuses)\n",
    "df_statuses.shape"
   ]
  },
  {
   "cell_type": "markdown",
   "metadata": {},
   "source": [
    "For some reason, there are 2 more rows than successfully processed IDs. \n",
    "\n",
    "This could happen because of reaching the rate limit twice.\n",
    "\n",
    "Need to check this DataFrame for duplicates during assess"
   ]
  },
  {
   "cell_type": "markdown",
   "metadata": {},
   "source": [
    "**Gathering data completed. There are 3 DataFrames:**\n",
    "\n",
    "- ```df_archive``` : information from manually downloaded archive\n",
    "- ```df_breeds``` : information from tsv file, downloaded using HTTP request\n",
    "- ```df_statuses``` : information acquired via Twitter API\n",
    "\n"
   ]
  },
  {
   "cell_type": "markdown",
   "metadata": {},
   "source": [
    "# 2. Access data"
   ]
  },
  {
   "cell_type": "code",
   "execution_count": null,
   "metadata": {},
   "outputs": [],
   "source": []
  },
  {
   "cell_type": "code",
   "execution_count": null,
   "metadata": {},
   "outputs": [],
   "source": []
  },
  {
   "cell_type": "code",
   "execution_count": null,
   "metadata": {},
   "outputs": [],
   "source": []
  },
  {
   "cell_type": "code",
   "execution_count": null,
   "metadata": {},
   "outputs": [],
   "source": []
  },
  {
   "cell_type": "code",
   "execution_count": null,
   "metadata": {},
   "outputs": [],
   "source": []
  },
  {
   "cell_type": "code",
   "execution_count": 60,
   "metadata": {},
   "outputs": [
    {
     "data": {
      "text/plain": [
       "2335"
      ]
     },
     "execution_count": 60,
     "metadata": {},
     "output_type": "execute_result"
    }
   ],
   "source": [
    "statuses_df['id'].nunique()"
   ]
  },
  {
   "cell_type": "code",
   "execution_count": 68,
   "metadata": {},
   "outputs": [
    {
     "data": {
      "text/html": [
       "<div>\n",
       "<style scoped>\n",
       "    .dataframe tbody tr th:only-of-type {\n",
       "        vertical-align: middle;\n",
       "    }\n",
       "\n",
       "    .dataframe tbody tr th {\n",
       "        vertical-align: top;\n",
       "    }\n",
       "\n",
       "    .dataframe thead th {\n",
       "        text-align: right;\n",
       "    }\n",
       "</style>\n",
       "<table border=\"1\" class=\"dataframe\">\n",
       "  <thead>\n",
       "    <tr style=\"text-align: right;\">\n",
       "      <th></th>\n",
       "      <th>contributors</th>\n",
       "      <th>coordinates</th>\n",
       "      <th>created_at</th>\n",
       "      <th>display_text_range</th>\n",
       "      <th>entities</th>\n",
       "      <th>extended_entities</th>\n",
       "      <th>favorite_count</th>\n",
       "      <th>favorited</th>\n",
       "      <th>full_text</th>\n",
       "      <th>geo</th>\n",
       "      <th>...</th>\n",
       "      <th>quoted_status</th>\n",
       "      <th>quoted_status_id</th>\n",
       "      <th>quoted_status_id_str</th>\n",
       "      <th>quoted_status_permalink</th>\n",
       "      <th>retweet_count</th>\n",
       "      <th>retweeted</th>\n",
       "      <th>retweeted_status</th>\n",
       "      <th>source</th>\n",
       "      <th>truncated</th>\n",
       "      <th>user</th>\n",
       "    </tr>\n",
       "  </thead>\n",
       "  <tbody>\n",
       "    <tr>\n",
       "      <th>0</th>\n",
       "      <td>None</td>\n",
       "      <td>None</td>\n",
       "      <td>Tue Aug 01 16:23:56 +0000 2017</td>\n",
       "      <td>[0, 85]</td>\n",
       "      <td>{'hashtags': [], 'symbols': [], 'user_mentions...</td>\n",
       "      <td>{'media': [{'id': 892420639486877696, 'id_str'...</td>\n",
       "      <td>37454</td>\n",
       "      <td>False</td>\n",
       "      <td>This is Phineas. He's a mystical boy. Only eve...</td>\n",
       "      <td>None</td>\n",
       "      <td>...</td>\n",
       "      <td>NaN</td>\n",
       "      <td>NaN</td>\n",
       "      <td>NaN</td>\n",
       "      <td>NaN</td>\n",
       "      <td>8147</td>\n",
       "      <td>False</td>\n",
       "      <td>NaN</td>\n",
       "      <td>&lt;a href=\"http://twitter.com/download/iphone\" r...</td>\n",
       "      <td>False</td>\n",
       "      <td>{'id': 4196983835, 'id_str': '4196983835', 'na...</td>\n",
       "    </tr>\n",
       "    <tr>\n",
       "      <th>1</th>\n",
       "      <td>None</td>\n",
       "      <td>None</td>\n",
       "      <td>Tue Aug 01 00:17:27 +0000 2017</td>\n",
       "      <td>[0, 138]</td>\n",
       "      <td>{'hashtags': [], 'symbols': [], 'user_mentions...</td>\n",
       "      <td>{'media': [{'id': 892177413194625024, 'id_str'...</td>\n",
       "      <td>32188</td>\n",
       "      <td>False</td>\n",
       "      <td>This is Tilly. She's just checking pup on you....</td>\n",
       "      <td>None</td>\n",
       "      <td>...</td>\n",
       "      <td>NaN</td>\n",
       "      <td>NaN</td>\n",
       "      <td>NaN</td>\n",
       "      <td>NaN</td>\n",
       "      <td>6033</td>\n",
       "      <td>False</td>\n",
       "      <td>NaN</td>\n",
       "      <td>&lt;a href=\"http://twitter.com/download/iphone\" r...</td>\n",
       "      <td>False</td>\n",
       "      <td>{'id': 4196983835, 'id_str': '4196983835', 'na...</td>\n",
       "    </tr>\n",
       "    <tr>\n",
       "      <th>2</th>\n",
       "      <td>None</td>\n",
       "      <td>None</td>\n",
       "      <td>Tue Aug 01 16:23:56 +0000 2017</td>\n",
       "      <td>[0, 85]</td>\n",
       "      <td>{'hashtags': [], 'symbols': [], 'user_mentions...</td>\n",
       "      <td>{'media': [{'id': 892420639486877696, 'id_str'...</td>\n",
       "      <td>37454</td>\n",
       "      <td>False</td>\n",
       "      <td>This is Phineas. He's a mystical boy. Only eve...</td>\n",
       "      <td>None</td>\n",
       "      <td>...</td>\n",
       "      <td>NaN</td>\n",
       "      <td>NaN</td>\n",
       "      <td>NaN</td>\n",
       "      <td>NaN</td>\n",
       "      <td>8147</td>\n",
       "      <td>False</td>\n",
       "      <td>NaN</td>\n",
       "      <td>&lt;a href=\"http://twitter.com/download/iphone\" r...</td>\n",
       "      <td>False</td>\n",
       "      <td>{'id': 4196983835, 'id_str': '4196983835', 'na...</td>\n",
       "    </tr>\n",
       "    <tr>\n",
       "      <th>3</th>\n",
       "      <td>None</td>\n",
       "      <td>None</td>\n",
       "      <td>Tue Aug 01 00:17:27 +0000 2017</td>\n",
       "      <td>[0, 138]</td>\n",
       "      <td>{'hashtags': [], 'symbols': [], 'user_mentions...</td>\n",
       "      <td>{'media': [{'id': 892177413194625024, 'id_str'...</td>\n",
       "      <td>32188</td>\n",
       "      <td>False</td>\n",
       "      <td>This is Tilly. She's just checking pup on you....</td>\n",
       "      <td>None</td>\n",
       "      <td>...</td>\n",
       "      <td>NaN</td>\n",
       "      <td>NaN</td>\n",
       "      <td>NaN</td>\n",
       "      <td>NaN</td>\n",
       "      <td>6033</td>\n",
       "      <td>False</td>\n",
       "      <td>NaN</td>\n",
       "      <td>&lt;a href=\"http://twitter.com/download/iphone\" r...</td>\n",
       "      <td>False</td>\n",
       "      <td>{'id': 4196983835, 'id_str': '4196983835', 'na...</td>\n",
       "    </tr>\n",
       "  </tbody>\n",
       "</table>\n",
       "<p>4 rows × 32 columns</p>\n",
       "</div>"
      ],
      "text/plain": [
       "  contributors coordinates                      created_at display_text_range  \\\n",
       "0         None        None  Tue Aug 01 16:23:56 +0000 2017            [0, 85]   \n",
       "1         None        None  Tue Aug 01 00:17:27 +0000 2017           [0, 138]   \n",
       "2         None        None  Tue Aug 01 16:23:56 +0000 2017            [0, 85]   \n",
       "3         None        None  Tue Aug 01 00:17:27 +0000 2017           [0, 138]   \n",
       "\n",
       "                                            entities  \\\n",
       "0  {'hashtags': [], 'symbols': [], 'user_mentions...   \n",
       "1  {'hashtags': [], 'symbols': [], 'user_mentions...   \n",
       "2  {'hashtags': [], 'symbols': [], 'user_mentions...   \n",
       "3  {'hashtags': [], 'symbols': [], 'user_mentions...   \n",
       "\n",
       "                                   extended_entities  favorite_count  \\\n",
       "0  {'media': [{'id': 892420639486877696, 'id_str'...           37454   \n",
       "1  {'media': [{'id': 892177413194625024, 'id_str'...           32188   \n",
       "2  {'media': [{'id': 892420639486877696, 'id_str'...           37454   \n",
       "3  {'media': [{'id': 892177413194625024, 'id_str'...           32188   \n",
       "\n",
       "   favorited                                          full_text   geo  ...  \\\n",
       "0      False  This is Phineas. He's a mystical boy. Only eve...  None  ...   \n",
       "1      False  This is Tilly. She's just checking pup on you....  None  ...   \n",
       "2      False  This is Phineas. He's a mystical boy. Only eve...  None  ...   \n",
       "3      False  This is Tilly. She's just checking pup on you....  None  ...   \n",
       "\n",
       "   quoted_status quoted_status_id quoted_status_id_str  \\\n",
       "0            NaN              NaN                  NaN   \n",
       "1            NaN              NaN                  NaN   \n",
       "2            NaN              NaN                  NaN   \n",
       "3            NaN              NaN                  NaN   \n",
       "\n",
       "   quoted_status_permalink retweet_count  retweeted retweeted_status  \\\n",
       "0                      NaN          8147      False              NaN   \n",
       "1                      NaN          6033      False              NaN   \n",
       "2                      NaN          8147      False              NaN   \n",
       "3                      NaN          6033      False              NaN   \n",
       "\n",
       "                                              source truncated  \\\n",
       "0  <a href=\"http://twitter.com/download/iphone\" r...     False   \n",
       "1  <a href=\"http://twitter.com/download/iphone\" r...     False   \n",
       "2  <a href=\"http://twitter.com/download/iphone\" r...     False   \n",
       "3  <a href=\"http://twitter.com/download/iphone\" r...     False   \n",
       "\n",
       "                                                user  \n",
       "0  {'id': 4196983835, 'id_str': '4196983835', 'na...  \n",
       "1  {'id': 4196983835, 'id_str': '4196983835', 'na...  \n",
       "2  {'id': 4196983835, 'id_str': '4196983835', 'na...  \n",
       "3  {'id': 4196983835, 'id_str': '4196983835', 'na...  \n",
       "\n",
       "[4 rows x 32 columns]"
      ]
     },
     "execution_count": 68,
     "metadata": {},
     "output_type": "execute_result"
    }
   ],
   "source": [
    "statuses_df[statuses_df.duplicated(['id'], keep=False)]"
   ]
  }
 ],
 "metadata": {
  "kernelspec": {
   "display_name": "Python 3",
   "language": "python",
   "name": "python3"
  },
  "language_info": {
   "codemirror_mode": {
    "name": "ipython",
    "version": 3
   },
   "file_extension": ".py",
   "mimetype": "text/x-python",
   "name": "python",
   "nbconvert_exporter": "python",
   "pygments_lexer": "ipython3",
   "version": "3.7.3"
  }
 },
 "nbformat": 4,
 "nbformat_minor": 2
}
