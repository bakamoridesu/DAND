{
 "cells": [
  {
   "cell_type": "markdown",
   "metadata": {},
   "source": [
    "# Crossfit athletes results exploration\n",
    "\n",
    "## Preliminary Wrangling and Cleaning\n",
    "\n",
    "The dataset contains information about crossfit athletes that were competing in 2015 year. The original dataset was taken from here https://data.world/bgadoci/crossfit-data. The original dataset had information about 423k athletes with 26 characteristics including region, team, results, and other information. It also contained a lot of null values (NaN, NA, -, 0 etc.). Since I wanted to have the complete information about every athlete in my dataset, I decided to keep only those rows that doesn't contain null values. I also decided to keep only information about athlete's results and his parameters, such as age, height, weight and training style. In this project, I want to explore how athlete's parameters affect their results. \n",
    "\n",
    "## Dataset description\n",
    "\n",
    "Here is the final set of columns in my dataset:\n",
    "\n",
    "- **name** : Athlete's name\n",
    "\n",
    "Athlete Parameteres:\n",
    "- **gender** : Athlete's gender\n",
    "- **age** : Athlete's age\n",
    "- **height** : Athlete's height\n",
    "- **weight** : Athlete's weight\n",
    "- **background** : Athlete's sport background (if any)\n",
    "- **schedule** : Athlete's workout schedule\n",
    "- **howlong** : Athlete's crossfit experience\n",
    "\n",
    "Athlete's Results:\n",
    "- **candj** : Personal record in Clean and Jerk (weightlifting)\n",
    "- **snatch** : Personal record in Snatch (weightlifting)\n",
    "- **deadlift** : Personal record in Deadlift \n",
    "- **backsq** : Personal record in Back Squat\n",
    "- **pullups** : Maximum unbroken pull-ups\n",
    "\n"
   ]
  },
  {
   "cell_type": "code",
   "execution_count": 51,
   "metadata": {},
   "outputs": [],
   "source": [
    "# import all packages and set plots to be embedded inline\n",
    "import numpy as np\n",
    "import pandas as pd\n",
    "import matplotlib.pyplot as plt\n",
    "import seaborn as sb\n",
    "\n",
    "%matplotlib inline"
   ]
  },
  {
   "cell_type": "markdown",
   "metadata": {},
   "source": [
    "Loading dataset:"
   ]
  },
  {
   "cell_type": "code",
   "execution_count": 52,
   "metadata": {},
   "outputs": [
    {
     "data": {
      "text/html": [
       "<div>\n",
       "<style scoped>\n",
       "    .dataframe tbody tr th:only-of-type {\n",
       "        vertical-align: middle;\n",
       "    }\n",
       "\n",
       "    .dataframe tbody tr th {\n",
       "        vertical-align: top;\n",
       "    }\n",
       "\n",
       "    .dataframe thead th {\n",
       "        text-align: right;\n",
       "    }\n",
       "</style>\n",
       "<table border=\"1\" class=\"dataframe\">\n",
       "  <thead>\n",
       "    <tr style=\"text-align: right;\">\n",
       "      <th></th>\n",
       "      <th>name</th>\n",
       "      <th>gender</th>\n",
       "      <th>age</th>\n",
       "      <th>height</th>\n",
       "      <th>weight</th>\n",
       "      <th>candj</th>\n",
       "      <th>snatch</th>\n",
       "      <th>deadlift</th>\n",
       "      <th>backsq</th>\n",
       "      <th>pullups</th>\n",
       "      <th>background</th>\n",
       "      <th>schedule</th>\n",
       "      <th>howlong</th>\n",
       "    </tr>\n",
       "  </thead>\n",
       "  <tbody>\n",
       "    <tr>\n",
       "      <th>0</th>\n",
       "      <td>Mike Abgarian</td>\n",
       "      <td>Male</td>\n",
       "      <td>31</td>\n",
       "      <td>65</td>\n",
       "      <td>150</td>\n",
       "      <td>290</td>\n",
       "      <td>225</td>\n",
       "      <td>465</td>\n",
       "      <td>405</td>\n",
       "      <td>81</td>\n",
       "      <td>Pro or college sports</td>\n",
       "      <td>Multiple workouts in a day</td>\n",
       "      <td>2-4 years</td>\n",
       "    </tr>\n",
       "    <tr>\n",
       "      <th>1</th>\n",
       "      <td>Erik Acevedo</td>\n",
       "      <td>Male</td>\n",
       "      <td>30</td>\n",
       "      <td>71</td>\n",
       "      <td>200</td>\n",
       "      <td>235</td>\n",
       "      <td>175</td>\n",
       "      <td>385</td>\n",
       "      <td>315</td>\n",
       "      <td>35</td>\n",
       "      <td>Pro or college sports</td>\n",
       "      <td>One or multiple</td>\n",
       "      <td>1-2 years</td>\n",
       "    </tr>\n",
       "    <tr>\n",
       "      <th>2</th>\n",
       "      <td>Richard Ablett</td>\n",
       "      <td>Male</td>\n",
       "      <td>28</td>\n",
       "      <td>70</td>\n",
       "      <td>176</td>\n",
       "      <td>187</td>\n",
       "      <td>134</td>\n",
       "      <td>335</td>\n",
       "      <td>254</td>\n",
       "      <td>27</td>\n",
       "      <td>No athletic background</td>\n",
       "      <td>One or multiple</td>\n",
       "      <td>2-4 years</td>\n",
       "    </tr>\n",
       "    <tr>\n",
       "      <th>3</th>\n",
       "      <td>Joji Abasolo</td>\n",
       "      <td>Male</td>\n",
       "      <td>39</td>\n",
       "      <td>66</td>\n",
       "      <td>158</td>\n",
       "      <td>185</td>\n",
       "      <td>135</td>\n",
       "      <td>385</td>\n",
       "      <td>285</td>\n",
       "      <td>31</td>\n",
       "      <td>Some sport (youth, school, recreational)</td>\n",
       "      <td>Multiple workouts in a day</td>\n",
       "      <td>1-2 years</td>\n",
       "    </tr>\n",
       "    <tr>\n",
       "      <th>4</th>\n",
       "      <td>Jerry Abadom</td>\n",
       "      <td>Male</td>\n",
       "      <td>44</td>\n",
       "      <td>72</td>\n",
       "      <td>214</td>\n",
       "      <td>265</td>\n",
       "      <td>198</td>\n",
       "      <td>551</td>\n",
       "      <td>485</td>\n",
       "      <td>37</td>\n",
       "      <td>Pro or college sports</td>\n",
       "      <td>One or multiple</td>\n",
       "      <td>1-2 years</td>\n",
       "    </tr>\n",
       "  </tbody>\n",
       "</table>\n",
       "</div>"
      ],
      "text/plain": [
       "             name gender  age  height  weight  candj  snatch  deadlift  \\\n",
       "0   Mike Abgarian   Male   31      65     150    290     225       465   \n",
       "1    Erik Acevedo   Male   30      71     200    235     175       385   \n",
       "2  Richard Ablett   Male   28      70     176    187     134       335   \n",
       "3    Joji Abasolo   Male   39      66     158    185     135       385   \n",
       "4    Jerry Abadom   Male   44      72     214    265     198       551   \n",
       "\n",
       "   backsq  pullups                                background  \\\n",
       "0     405       81                     Pro or college sports   \n",
       "1     315       35                     Pro or college sports   \n",
       "2     254       27                    No athletic background   \n",
       "3     285       31  Some sport (youth, school, recreational)   \n",
       "4     485       37                     Pro or college sports   \n",
       "\n",
       "                     schedule    howlong  \n",
       "0  Multiple workouts in a day  2-4 years  \n",
       "1             One or multiple  1-2 years  \n",
       "2             One or multiple  2-4 years  \n",
       "3  Multiple workouts in a day  1-2 years  \n",
       "4             One or multiple  1-2 years  "
      ]
     },
     "execution_count": 52,
     "metadata": {},
     "output_type": "execute_result"
    }
   ],
   "source": [
    "athletes = pd.read_csv('athletes_complete.csv')\n",
    "athletes.head()"
   ]
  },
  {
   "cell_type": "code",
   "execution_count": 53,
   "metadata": {},
   "outputs": [
    {
     "name": "stdout",
     "output_type": "stream",
     "text": [
      "<class 'pandas.core.frame.DataFrame'>\n",
      "RangeIndex: 21105 entries, 0 to 21104\n",
      "Data columns (total 13 columns):\n",
      "name          21105 non-null object\n",
      "gender        21105 non-null object\n",
      "age           21105 non-null int64\n",
      "height        21105 non-null int64\n",
      "weight        21105 non-null int64\n",
      "candj         21105 non-null int64\n",
      "snatch        21105 non-null int64\n",
      "deadlift      21105 non-null int64\n",
      "backsq        21105 non-null int64\n",
      "pullups       21105 non-null int64\n",
      "background    21105 non-null object\n",
      "schedule      21105 non-null object\n",
      "howlong       21105 non-null object\n",
      "dtypes: int64(8), object(5)\n",
      "memory usage: 2.1+ MB\n"
     ]
    }
   ],
   "source": [
    "athletes.info()"
   ]
  },
  {
   "cell_type": "markdown",
   "metadata": {},
   "source": [
    "The \"gender\", \"background\", \"schedule\" and \"howlong\" columns should be categorical. I'll convert them now."
   ]
  },
  {
   "cell_type": "code",
   "execution_count": 54,
   "metadata": {},
   "outputs": [],
   "source": [
    "# converting gender (unordered)\n",
    "genders = ['Male', 'Female']\n",
    "vclasses = pd.api.types.CategoricalDtype(ordered=False, categories=genders)\n",
    "athletes['gender'] = athletes['gender'].astype(vclasses)\n",
    "\n",
    "# converting gender (ordered from no background to pro)\n",
    "backgrounds = ['No athletic background', 'Some sport (youth, school, recreational)', 'Pro or college sports']\n",
    "vclasses = pd.api.types.CategoricalDtype(ordered=True, categories=backgrounds)\n",
    "athletes['background'] = athletes['background'].astype(vclasses)\n",
    "\n",
    "# converting schedules (ordered from one to multiple workouts per day)\n",
    "schedules = ['One workout a day', 'One or multiple', 'Multiple workouts in a day']\n",
    "vclasses = pd.api.types.CategoricalDtype(ordered=True, categories=schedules)\n",
    "athletes['schedule'] = athletes['schedule'].astype(vclasses)\n",
    "\n",
    "# converting howlong (ordered from less than year to 4+ years)\n",
    "howlongs = ['Less than 1 year', '1-2 years', '2-4 years', '4+ years']\n",
    "vclasses = pd.api.types.CategoricalDtype(ordered=True, categories=howlongs)\n",
    "athletes['howlong'] = athletes['howlong'].astype(vclasses)"
   ]
  },
  {
   "cell_type": "code",
   "execution_count": 55,
   "metadata": {},
   "outputs": [
    {
     "name": "stdout",
     "output_type": "stream",
     "text": [
      "<class 'pandas.core.frame.DataFrame'>\n",
      "RangeIndex: 21105 entries, 0 to 21104\n",
      "Data columns (total 13 columns):\n",
      "name          21105 non-null object\n",
      "gender        21105 non-null category\n",
      "age           21105 non-null int64\n",
      "height        21105 non-null int64\n",
      "weight        21105 non-null int64\n",
      "candj         21105 non-null int64\n",
      "snatch        21105 non-null int64\n",
      "deadlift      21105 non-null int64\n",
      "backsq        21105 non-null int64\n",
      "pullups       21105 non-null int64\n",
      "background    21105 non-null category\n",
      "schedule      21105 non-null category\n",
      "howlong       21105 non-null category\n",
      "dtypes: category(4), int64(8), object(1)\n",
      "memory usage: 1.5+ MB\n"
     ]
    }
   ],
   "source": [
    "athletes.info()"
   ]
  },
  {
   "cell_type": "markdown",
   "metadata": {},
   "source": [
    "Now it's fine. \n",
    "\n",
    "We have 8 numeric variables (3 for parameters and 5 for results) and 4 categorical variables (all of them describe athlete's parameters and style)\n",
    "\n",
    "The main features of interest are the results:\n",
    "- **pullups** - base gymnastics movement\n",
    "- **snatch + clean and jerk** - two movements from weightlifting\n",
    "- **deadlift + backsquat** - two movements from powerlifting\n",
    "\n",
    "On the other hand, there are the parameters that may affect those results:\n",
    "- **age, gender, height, weight** - physical parameters of an athlete\n",
    "- **background, schedule, howlong** - where the athlete came from, how often and how long does he train"
   ]
  },
  {
   "cell_type": "markdown",
   "metadata": {},
   "source": [
    "## Univariate Exploration\n"
   ]
  },
  {
   "cell_type": "markdown",
   "metadata": {},
   "source": [
    "### Results distribution"
   ]
  },
  {
   "cell_type": "markdown",
   "metadata": {},
   "source": [
    "Starting from the distribution of maximum pullups. Since all results are numeric, I'll plot their distributions as histograms"
   ]
  },
  {
   "cell_type": "code",
   "execution_count": 56,
   "metadata": {},
   "outputs": [
    {
     "data": {
      "text/plain": [
       "count    21105.000000\n",
       "mean        30.510258\n",
       "std         15.168022\n",
       "min          1.000000\n",
       "25%         20.000000\n",
       "50%         30.000000\n",
       "75%         40.000000\n",
       "max         98.000000\n",
       "Name: pullups, dtype: float64"
      ]
     },
     "execution_count": 56,
     "metadata": {},
     "output_type": "execute_result"
    }
   ],
   "source": [
    "athletes.pullups.describe()"
   ]
  },
  {
   "cell_type": "code",
   "execution_count": 57,
   "metadata": {},
   "outputs": [
    {
     "data": {
      "image/png": "[encoded data removed]",
      "text/plain": [
       "<Figure size 432x288 with 1 Axes>"
      ]
     },
     "metadata": {
      "needs_background": "light"
     },
     "output_type": "display_data"
    }
   ],
   "source": [
    "bins = np.arange(1, 98 + 5, 5)\n",
    "plt.hist(data = athletes, x='pullups', bins=bins)\n",
    "plt.xlabel('Maximum reps of pull-ups')\n",
    "plt.ylabel('Athletes count')\n",
    "plt.title('Maximum pull-up reps distribution');"
   ]
  },
  {
   "cell_type": "markdown",
   "metadata": {},
   "source": [
    "It's almost a normal distribution. Most of the data lies between 10 and 50 reps"
   ]
  },
  {
   "cell_type": "markdown",
   "metadata": {},
   "source": [
    "Now I want to see the distribution of weightlifting results plotted together as subplots. Probably it will make sense to sum up these columns into one."
   ]
  },
  {
   "cell_type": "code",
   "execution_count": 58,
   "metadata": {},
   "outputs": [
    {
     "data": {
      "text/plain": [
       "count    21105.000000\n",
       "mean       162.067709\n",
       "std         46.819431\n",
       "min         15.000000\n",
       "25%        130.000000\n",
       "50%        165.000000\n",
       "75%        195.000000\n",
       "max        375.000000\n",
       "Name: snatch, dtype: float64"
      ]
     },
     "execution_count": 58,
     "metadata": {},
     "output_type": "execute_result"
    }
   ],
   "source": [
    "athletes.snatch.describe()"
   ]
  },
  {
   "cell_type": "code",
   "execution_count": 68,
   "metadata": {},
   "outputs": [
    {
     "data": {
      "text/plain": [
       "count    21105.000000\n",
       "mean       212.333760\n",
       "std         56.377838\n",
       "min         17.000000\n",
       "25%        175.000000\n",
       "50%        215.000000\n",
       "75%        255.000000\n",
       "max        428.000000\n",
       "Name: candj, dtype: float64"
      ]
     },
     "execution_count": 68,
     "metadata": {},
     "output_type": "execute_result"
    }
   ],
   "source": [
    "athletes.candj.describe()"
   ]
  },
  {
   "cell_type": "code",
   "execution_count": 115,
   "metadata": {},
   "outputs": [
    {
     "data": {
      "image/png": "[encoded data removed]",
      "text/plain": [
       "<Figure size 1008x360 with 2 Axes>"
      ]
     },
     "metadata": {
      "needs_background": "light"
     },
     "output_type": "display_data"
    }
   ],
   "source": [
    "snatch_bins = np.arange(15, 375 + 20, 20)\n",
    "clean_bins = np.arange(17, 428 + 20, 20)\n",
    "\n",
    "fig, (ax1,ax2) = plt.subplots(ncols=2, figsize=(14,5))\n",
    "ax1.hist(data = athletes, x='snatch', bins=snatch_bins)\n",
    "ax2.hist(data = athletes, x='candj', bins=clean_bins);"
   ]
  },
  {
   "cell_type": "markdown",
   "metadata": {},
   "source": [
    "The distributions look almost equal. So I think it makes sense to add one column called \"weightlifting\", that contains sum of snatch and C&J results."
   ]
  },
  {
   "cell_type": "code",
   "execution_count": 71,
   "metadata": {},
   "outputs": [],
   "source": [
    "athletes['weightlifting'] = athletes['snatch'] + athletes['candj']"
   ]
  },
  {
   "cell_type": "markdown",
   "metadata": {},
   "source": [
    "Now, I want to look at some athlete parameters distributions. The most interesting are background and how long they do crossfit. "
   ]
  },
  {
   "cell_type": "code",
   "execution_count": 110,
   "metadata": {},
   "outputs": [
    {
     "data": {
      "text/plain": [
       "Some sport (youth, school, recreational)    12296\n",
       "Pro or college sports                        6480\n",
       "No athletic background                       2329\n",
       "Name: background, dtype: int64"
      ]
     },
     "execution_count": 110,
     "metadata": {},
     "output_type": "execute_result"
    }
   ],
   "source": [
    "athletes['background'].value_counts()"
   ]
  },
  {
   "cell_type": "markdown",
   "metadata": {},
   "source": [
    "Since background only has 3 different values, the best kind of plot is pie chart."
   ]
  },
  {
   "cell_type": "code",
   "execution_count": 109,
   "metadata": {},
   "outputs": [
    {
     "data": {
      "image/png": "[encoded data removed]",
      "text/plain": [
       "<Figure size 720x720 with 1 Axes>"
      ]
     },
     "metadata": {},
     "output_type": "display_data"
    }
   ],
   "source": [
    "plt.figure(figsize=(10,10))\n",
    "\n",
    "values = athletes['background'].value_counts()\n",
    "labels = athletes['background'].value_counts().keys().values\n",
    "\n",
    "plt.pie(values, labels=labels, autopct='%1.0f%%', pctdistance=0.5, labeldistance=1.05, \n",
    "        counterclock=False, startangle = 90,textprops={'fontsize': 15})\n",
    "plt.title('Athletes background distribution', fontsize=20);"
   ]
  },
  {
   "cell_type": "markdown",
   "metadata": {},
   "source": [
    "Most athletes had some sports in their life, some were pros and only 11% had no athletic background."
   ]
  },
  {
   "cell_type": "code",
   "execution_count": 112,
   "metadata": {},
   "outputs": [
    {
     "data": {
      "text/plain": [
       "2-4 years           7343\n",
       "1-2 years           7067\n",
       "Less than 1 year    3491\n",
       "4+ years            3204\n",
       "Name: howlong, dtype: int64"
      ]
     },
     "execution_count": 112,
     "metadata": {},
     "output_type": "execute_result"
    }
   ],
   "source": [
    "athletes['howlong'].value_counts()"
   ]
  },
  {
   "cell_type": "markdown",
   "metadata": {},
   "source": [
    "For this parameter, I'll make a bar chart."
   ]
  },
  {
   "cell_type": "code",
   "execution_count": 114,
   "metadata": {},
   "outputs": [
    {
     "data": {
      "image/png": "[encoded data removed]",
      "text/plain": [
       "<Figure size 432x288 with 1 Axes>"
      ]
     },
     "metadata": {
      "needs_background": "light"
     },
     "output_type": "display_data"
    }
   ],
   "source": [
    "orders = athletes['howlong'].value_counts().index\n",
    "sb.countplot(data=athletes, x='howlong', color='grey', order=orders);"
   ]
  },
  {
   "cell_type": "markdown",
   "metadata": {},
   "source": [
    "Here is an interesting situation. If this variable was numeric, it would probably have normally distributed values. Most of the athletes have 1-4 years of experience. Some are rookies(1 year or less) and some are very experienced(4+ years)."
   ]
  },
  {
   "cell_type": "markdown",
   "metadata": {},
   "source": [
    "## Bivariate Exploration\n",
    "\n",
    "> In this section, investigate relationships between pairs of variables in your\n",
    "data. Make sure the variables that you cover here have been introduced in some\n",
    "fashion in the previous section (univariate exploration)."
   ]
  },
  {
   "cell_type": "code",
   "execution_count": null,
   "metadata": {},
   "outputs": [],
   "source": []
  },
  {
   "cell_type": "markdown",
   "metadata": {},
   "source": [
    "### Talk about some of the relationships you observed in this part of the investigation. How did the feature(s) of interest vary with other features in the dataset?\n",
    "\n",
    "> Your answer here!\n",
    "\n",
    "### Did you observe any interesting relationships between the other features (not the main feature(s) of interest)?\n",
    "\n",
    "> Your answer here!"
   ]
  },
  {
   "cell_type": "markdown",
   "metadata": {},
   "source": [
    "## Multivariate Exploration\n",
    "\n",
    "> Create plots of three or more variables to investigate your data even\n",
    "further. Make sure that your investigations are justified, and follow from\n",
    "your work in the previous sections."
   ]
  },
  {
   "cell_type": "code",
   "execution_count": null,
   "metadata": {},
   "outputs": [],
   "source": []
  },
  {
   "cell_type": "markdown",
   "metadata": {},
   "source": [
    "### Talk about some of the relationships you observed in this part of the investigation. Were there features that strengthened each other in terms of looking at your feature(s) of interest?\n",
    "\n",
    "> Your answer here!\n",
    "\n",
    "### Were there any interesting or surprising interactions between features?\n",
    "\n",
    "> Your answer here!"
   ]
  },
  {
   "cell_type": "markdown",
   "metadata": {},
   "source": [
    "> At the end of your report, make sure that you export the notebook as an\n",
    "html file from the `File > Download as... > HTML` menu. Make sure you keep\n",
    "track of where the exported file goes, so you can put it in the same folder\n",
    "as this notebook for project submission. Also, make sure you remove all of\n",
    "the quote-formatted guide notes like this one before you finish your report!"
   ]
  },
  {
   "cell_type": "code",
   "execution_count": null,
   "metadata": {},
   "outputs": [],
   "source": []
  }
 ],
 "metadata": {
  "kernelspec": {
   "display_name": "Python 3",
   "language": "python",
   "name": "python3"
  },
  "language_info": {
   "codemirror_mode": {
    "name": "ipython",
    "version": 3
   },
   "file_extension": ".py",
   "mimetype": "text/x-python",
   "name": "python",
   "nbconvert_exporter": "python",
   "pygments_lexer": "ipython3",
   "version": "3.7.3"
  }
 },
 "nbformat": 4,
 "nbformat_minor": 2
}
