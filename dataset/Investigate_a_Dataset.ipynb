{
 "cells": [
  {
   "cell_type": "markdown",
   "metadata": {},
   "source": [
    "# Medical Appointment No Shows\n",
    "## Why do 30% of patients miss their scheduled appointments?\n",
    "\n",
    "## Table of Contents\n",
    "<ul>\n",
    "<li><a href=\"#intro\">Introduction</a></li>\n",
    "<li><a href=\"#wrangling\">Data Wrangling</a></li>\n",
    "<li><a href=\"#eda\">Exploratory Data Analysis</a></li>\n",
    "<li><a href=\"#conclusions\">Conclusions</a></li>\n",
    "</ul>"
   ]
  },
  {
   "cell_type": "markdown",
   "metadata": {},
   "source": [
    "<a id='intro'></a>\n",
    "## Introduction\n",
    "\n",
    "The dataset contains ~110000 medical appointments and its 15 variables (characteristics) of each. The most important one if the patient show-up or no-show the appointment. \n",
    "Here are the rest of variables:\n",
    "\n",
    "- **PatientId** = Identification of a patient\n",
    "- **AppointmentID** = Identification of each appointment\n",
    "- **Gender** = Male or Female . Female is the greater proportion, woman takes way more care of they health in comparison to man (when analysing this variable, it will probably a good idea to normalize this column and use proportions instead of raw numbers)\n",
    "- **ScheduledDay** = The day someone called or registered the appointment, this is before appointment of course.\n",
    "- **AppointmentDay** = The day of the actuall appointment, when they have to visit the doctor.\n",
    "- **Age** = How old is the patient.\n",
    "- **Neighbourhood** = Where the appointment takes place.\n",
    "- **Scholarship** = Ture of False. Participation in Bolsa Família, a social welfare program of the Government of Brazil.\n",
    "- **Hipertension** = True or False\n",
    "- **Diabetes** = True or False\n",
    "- **Alcoholism** = True or False\n",
    "- **Handcap** = True or False\n",
    "- **SMS_received** = 1 or more messages sent to the patient. \n",
    "\n",
    "The main question is, do some of the variables impact on no-show an appointment? If so, can we use this data to make a prediction?\n",
    "\n",
    "Another question that is most interesting for me, do men no-show more often than women?"
   ]
  },
  {
   "cell_type": "markdown",
   "metadata": {},
   "source": [
    "<a id='wrangling'></a>\n",
    "## 1. Data Wrangling\n",
    "\n",
    "### 1.0 Imports"
   ]
  },
  {
   "cell_type": "code",
   "execution_count": 3,
   "metadata": {},
   "outputs": [],
   "source": [
    "# imports\n",
    "\n",
    "import pandas as pd\n",
    "import matplotlib.pyplot as plt\n",
    "#import seaborn as sns\n",
    "import numpy as np\n",
    "%matplotlib inline"
   ]
  },
  {
   "cell_type": "markdown",
   "metadata": {},
   "source": [
    "### 1.1 Loading dataset"
   ]
  },
  {
   "cell_type": "code",
   "execution_count": 4,
   "metadata": {},
   "outputs": [],
   "source": [
    "# Load your data and print out a few lines. Perform operations to inspect data\n",
    "#   types and look for instances of missing or possibly errant data.\n",
    "df = pd.read_csv('KaggleV2-May-2016.csv')"
   ]
  },
  {
   "cell_type": "code",
   "execution_count": 5,
   "metadata": {},
   "outputs": [
    {
     "data": {
      "text/html": [
       "<div>\n",
       "<style scoped>\n",
       "    .dataframe tbody tr th:only-of-type {\n",
       "        vertical-align: middle;\n",
       "    }\n",
       "\n",
       "    .dataframe tbody tr th {\n",
       "        vertical-align: top;\n",
       "    }\n",
       "\n",
       "    .dataframe thead th {\n",
       "        text-align: right;\n",
       "    }\n",
       "</style>\n",
       "<table border=\"1\" class=\"dataframe\">\n",
       "  <thead>\n",
       "    <tr style=\"text-align: right;\">\n",
       "      <th></th>\n",
       "      <th>PatientId</th>\n",
       "      <th>AppointmentID</th>\n",
       "      <th>Gender</th>\n",
       "      <th>ScheduledDay</th>\n",
       "      <th>AppointmentDay</th>\n",
       "      <th>Age</th>\n",
       "      <th>Neighbourhood</th>\n",
       "      <th>Scholarship</th>\n",
       "      <th>Hipertension</th>\n",
       "      <th>Diabetes</th>\n",
       "      <th>Alcoholism</th>\n",
       "      <th>Handcap</th>\n",
       "      <th>SMS_received</th>\n",
       "      <th>No-show</th>\n",
       "    </tr>\n",
       "  </thead>\n",
       "  <tbody>\n",
       "    <tr>\n",
       "      <th>0</th>\n",
       "      <td>2.987250e+13</td>\n",
       "      <td>5642903</td>\n",
       "      <td>F</td>\n",
       "      <td>2016-04-29T18:38:08Z</td>\n",
       "      <td>2016-04-29T00:00:00Z</td>\n",
       "      <td>62</td>\n",
       "      <td>JARDIM DA PENHA</td>\n",
       "      <td>0</td>\n",
       "      <td>1</td>\n",
       "      <td>0</td>\n",
       "      <td>0</td>\n",
       "      <td>0</td>\n",
       "      <td>0</td>\n",
       "      <td>No</td>\n",
       "    </tr>\n",
       "    <tr>\n",
       "      <th>1</th>\n",
       "      <td>5.589978e+14</td>\n",
       "      <td>5642503</td>\n",
       "      <td>M</td>\n",
       "      <td>2016-04-29T16:08:27Z</td>\n",
       "      <td>2016-04-29T00:00:00Z</td>\n",
       "      <td>56</td>\n",
       "      <td>JARDIM DA PENHA</td>\n",
       "      <td>0</td>\n",
       "      <td>0</td>\n",
       "      <td>0</td>\n",
       "      <td>0</td>\n",
       "      <td>0</td>\n",
       "      <td>0</td>\n",
       "      <td>No</td>\n",
       "    </tr>\n",
       "    <tr>\n",
       "      <th>2</th>\n",
       "      <td>4.262962e+12</td>\n",
       "      <td>5642549</td>\n",
       "      <td>F</td>\n",
       "      <td>2016-04-29T16:19:04Z</td>\n",
       "      <td>2016-04-29T00:00:00Z</td>\n",
       "      <td>62</td>\n",
       "      <td>MATA DA PRAIA</td>\n",
       "      <td>0</td>\n",
       "      <td>0</td>\n",
       "      <td>0</td>\n",
       "      <td>0</td>\n",
       "      <td>0</td>\n",
       "      <td>0</td>\n",
       "      <td>No</td>\n",
       "    </tr>\n",
       "    <tr>\n",
       "      <th>3</th>\n",
       "      <td>8.679512e+11</td>\n",
       "      <td>5642828</td>\n",
       "      <td>F</td>\n",
       "      <td>2016-04-29T17:29:31Z</td>\n",
       "      <td>2016-04-29T00:00:00Z</td>\n",
       "      <td>8</td>\n",
       "      <td>PONTAL DE CAMBURI</td>\n",
       "      <td>0</td>\n",
       "      <td>0</td>\n",
       "      <td>0</td>\n",
       "      <td>0</td>\n",
       "      <td>0</td>\n",
       "      <td>0</td>\n",
       "      <td>No</td>\n",
       "    </tr>\n",
       "    <tr>\n",
       "      <th>4</th>\n",
       "      <td>8.841186e+12</td>\n",
       "      <td>5642494</td>\n",
       "      <td>F</td>\n",
       "      <td>2016-04-29T16:07:23Z</td>\n",
       "      <td>2016-04-29T00:00:00Z</td>\n",
       "      <td>56</td>\n",
       "      <td>JARDIM DA PENHA</td>\n",
       "      <td>0</td>\n",
       "      <td>1</td>\n",
       "      <td>1</td>\n",
       "      <td>0</td>\n",
       "      <td>0</td>\n",
       "      <td>0</td>\n",
       "      <td>No</td>\n",
       "    </tr>\n",
       "  </tbody>\n",
       "</table>\n",
       "</div>"
      ],
      "text/plain": [
       "      PatientId  AppointmentID Gender          ScheduledDay  \\\n",
       "0  2.987250e+13        5642903      F  2016-04-29T18:38:08Z   \n",
       "1  5.589978e+14        5642503      M  2016-04-29T16:08:27Z   \n",
       "2  4.262962e+12        5642549      F  2016-04-29T16:19:04Z   \n",
       "3  8.679512e+11        5642828      F  2016-04-29T17:29:31Z   \n",
       "4  8.841186e+12        5642494      F  2016-04-29T16:07:23Z   \n",
       "\n",
       "         AppointmentDay  Age      Neighbourhood  Scholarship  Hipertension  \\\n",
       "0  2016-04-29T00:00:00Z   62    JARDIM DA PENHA            0             1   \n",
       "1  2016-04-29T00:00:00Z   56    JARDIM DA PENHA            0             0   \n",
       "2  2016-04-29T00:00:00Z   62      MATA DA PRAIA            0             0   \n",
       "3  2016-04-29T00:00:00Z    8  PONTAL DE CAMBURI            0             0   \n",
       "4  2016-04-29T00:00:00Z   56    JARDIM DA PENHA            0             1   \n",
       "\n",
       "   Diabetes  Alcoholism  Handcap  SMS_received No-show  \n",
       "0         0           0        0             0      No  \n",
       "1         0           0        0             0      No  \n",
       "2         0           0        0             0      No  \n",
       "3         0           0        0             0      No  \n",
       "4         1           0        0             0      No  "
      ]
     },
     "execution_count": 5,
     "metadata": {},
     "output_type": "execute_result"
    }
   ],
   "source": [
    "df.head()"
   ]
  },
  {
   "cell_type": "code",
   "execution_count": 6,
   "metadata": {},
   "outputs": [
    {
     "data": {
      "text/plain": [
       "(110527, 14)"
      ]
     },
     "execution_count": 6,
     "metadata": {},
     "output_type": "execute_result"
    }
   ],
   "source": [
    "df.shape"
   ]
  },
  {
   "cell_type": "markdown",
   "metadata": {},
   "source": [
    "### 1.2 Checking for null values:"
   ]
  },
  {
   "cell_type": "code",
   "execution_count": 7,
   "metadata": {},
   "outputs": [
    {
     "name": "stdout",
     "output_type": "stream",
     "text": [
      "<class 'pandas.core.frame.DataFrame'>\n",
      "RangeIndex: 110527 entries, 0 to 110526\n",
      "Data columns (total 14 columns):\n",
      "PatientId         110527 non-null float64\n",
      "AppointmentID     110527 non-null int64\n",
      "Gender            110527 non-null object\n",
      "ScheduledDay      110527 non-null object\n",
      "AppointmentDay    110527 non-null object\n",
      "Age               110527 non-null int64\n",
      "Neighbourhood     110527 non-null object\n",
      "Scholarship       110527 non-null int64\n",
      "Hipertension      110527 non-null int64\n",
      "Diabetes          110527 non-null int64\n",
      "Alcoholism        110527 non-null int64\n",
      "Handcap           110527 non-null int64\n",
      "SMS_received      110527 non-null int64\n",
      "No-show           110527 non-null object\n",
      "dtypes: float64(1), int64(8), object(5)\n",
      "memory usage: 11.8+ MB\n"
     ]
    }
   ],
   "source": [
    "df.info()"
   ]
  },
  {
   "cell_type": "markdown",
   "metadata": {},
   "source": [
    "There is no missing data in the dataset! "
   ]
  },
  {
   "cell_type": "markdown",
   "metadata": {},
   "source": [
    "### 1.3 Checking for duplicates:"
   ]
  },
  {
   "cell_type": "code",
   "execution_count": 8,
   "metadata": {},
   "outputs": [
    {
     "data": {
      "text/plain": [
       "0"
      ]
     },
     "execution_count": 8,
     "metadata": {},
     "output_type": "execute_result"
    }
   ],
   "source": [
    "sum(df.duplicated())"
   ]
  },
  {
   "cell_type": "markdown",
   "metadata": {},
   "source": [
    "There are no duplicates!"
   ]
  },
  {
   "cell_type": "markdown",
   "metadata": {},
   "source": [
    "### 1.4. Cleaning data\n",
    "\n",
    "There are no duplicates or missing data cells, but still I can see two problems that require cleaning:\n",
    "\n",
    "#### 1.4.1 Converting strings to datetimes:"
   ]
  },
  {
   "cell_type": "code",
   "execution_count": 9,
   "metadata": {},
   "outputs": [],
   "source": [
    "df['ScheduledDay'] = pd.to_datetime(df['ScheduledDay'])\n",
    "df['AppointmentDay'] = pd.to_datetime(df['AppointmentDay'])"
   ]
  },
  {
   "cell_type": "markdown",
   "metadata": {},
   "source": [
    "#### 1.4.2 Renaming column names:"
   ]
  },
  {
   "cell_type": "code",
   "execution_count": 10,
   "metadata": {},
   "outputs": [],
   "source": [
    "df.columns = ['patient_id', 'applointment_id', 'gender', 'scheduled_day', 'appointment_day', 'age', \n",
    "              'neighbourhood', 'scholarship', 'hipertension', 'diabetes', 'alcoholism', 'handcap', 'sms_received', 'no_show']"
   ]
  },
  {
   "cell_type": "markdown",
   "metadata": {},
   "source": [
    "#### 1.4.3 Age column:\n",
    "\n",
    "Describe the age column:"
   ]
  },
  {
   "cell_type": "code",
   "execution_count": 12,
   "metadata": {},
   "outputs": [
    {
     "data": {
      "text/plain": [
       "count    110527.000000\n",
       "mean         37.088874\n",
       "std          23.110205\n",
       "min          -1.000000\n",
       "25%          18.000000\n",
       "50%          37.000000\n",
       "75%          55.000000\n",
       "max         115.000000\n",
       "Name: age, dtype: float64"
      ]
     },
     "execution_count": 12,
     "metadata": {},
     "output_type": "execute_result"
    }
   ],
   "source": [
    "df['age'].describe()"
   ]
  },
  {
   "cell_type": "markdown",
   "metadata": {},
   "source": [
    "The minimum value is -1, so probably the age is missing for some rows. But how many of them?"
   ]
  },
  {
   "cell_type": "code",
   "execution_count": 19,
   "metadata": {},
   "outputs": [
    {
     "data": {
      "text/plain": [
       "(3539, 14)"
      ]
     },
     "execution_count": 19,
     "metadata": {},
     "output_type": "execute_result"
    }
   ],
   "source": [
    "df_age = df[df['age'] <= 0]\n",
    "df_age.shape"
   ]
  },
  {
   "cell_type": "markdown",
   "metadata": {},
   "source": [
    "There are a lot of rows with 0 age or less. Let's assign the mean age to this row."
   ]
  },
  {
   "cell_type": "code",
   "execution_count": 20,
   "metadata": {},
   "outputs": [],
   "source": [
    "df[df['age'] <= 0] = df['age'].mean()"
   ]
  },
  {
   "cell_type": "code",
   "execution_count": 21,
   "metadata": {},
   "outputs": [
    {
     "data": {
      "text/plain": [
       "count    110527.000000\n",
       "mean         38.276791\n",
       "std          22.104561\n",
       "min           1.000000\n",
       "25%          20.000000\n",
       "50%          37.089219\n",
       "75%          55.000000\n",
       "max         115.000000\n",
       "Name: age, dtype: float64"
      ]
     },
     "execution_count": 21,
     "metadata": {},
     "output_type": "execute_result"
    }
   ],
   "source": [
    "df['age'].describe()"
   ]
  },
  {
   "cell_type": "code",
   "execution_count": 22,
   "metadata": {},
   "outputs": [
    {
     "data": {
      "text/html": [
       "<div>\n",
       "<style scoped>\n",
       "    .dataframe tbody tr th:only-of-type {\n",
       "        vertical-align: middle;\n",
       "    }\n",
       "\n",
       "    .dataframe tbody tr th {\n",
       "        vertical-align: top;\n",
       "    }\n",
       "\n",
       "    .dataframe thead th {\n",
       "        text-align: right;\n",
       "    }\n",
       "</style>\n",
       "<table border=\"1\" class=\"dataframe\">\n",
       "  <thead>\n",
       "    <tr style=\"text-align: right;\">\n",
       "      <th></th>\n",
       "      <th>patient_id</th>\n",
       "      <th>applointment_id</th>\n",
       "      <th>gender</th>\n",
       "      <th>scheduled_day</th>\n",
       "      <th>appointment_day</th>\n",
       "      <th>age</th>\n",
       "      <th>neighbourhood</th>\n",
       "      <th>scholarship</th>\n",
       "      <th>hipertension</th>\n",
       "      <th>diabetes</th>\n",
       "      <th>alcoholism</th>\n",
       "      <th>handcap</th>\n",
       "      <th>sms_received</th>\n",
       "      <th>no_show</th>\n",
       "    </tr>\n",
       "  </thead>\n",
       "  <tbody>\n",
       "    <tr>\n",
       "      <th>0</th>\n",
       "      <td>2.987250e+13</td>\n",
       "      <td>5642903.0</td>\n",
       "      <td>F</td>\n",
       "      <td>2016-04-29 18:38:08</td>\n",
       "      <td>2016-04-29 00:00:00</td>\n",
       "      <td>62.0</td>\n",
       "      <td>JARDIM DA PENHA</td>\n",
       "      <td>0.0</td>\n",
       "      <td>1.0</td>\n",
       "      <td>0.0</td>\n",
       "      <td>0.0</td>\n",
       "      <td>0.0</td>\n",
       "      <td>0.0</td>\n",
       "      <td>No</td>\n",
       "    </tr>\n",
       "    <tr>\n",
       "      <th>1</th>\n",
       "      <td>5.589978e+14</td>\n",
       "      <td>5642503.0</td>\n",
       "      <td>M</td>\n",
       "      <td>2016-04-29 16:08:27</td>\n",
       "      <td>2016-04-29 00:00:00</td>\n",
       "      <td>56.0</td>\n",
       "      <td>JARDIM DA PENHA</td>\n",
       "      <td>0.0</td>\n",
       "      <td>0.0</td>\n",
       "      <td>0.0</td>\n",
       "      <td>0.0</td>\n",
       "      <td>0.0</td>\n",
       "      <td>0.0</td>\n",
       "      <td>No</td>\n",
       "    </tr>\n",
       "    <tr>\n",
       "      <th>2</th>\n",
       "      <td>4.262962e+12</td>\n",
       "      <td>5642549.0</td>\n",
       "      <td>F</td>\n",
       "      <td>2016-04-29 16:19:04</td>\n",
       "      <td>2016-04-29 00:00:00</td>\n",
       "      <td>62.0</td>\n",
       "      <td>MATA DA PRAIA</td>\n",
       "      <td>0.0</td>\n",
       "      <td>0.0</td>\n",
       "      <td>0.0</td>\n",
       "      <td>0.0</td>\n",
       "      <td>0.0</td>\n",
       "      <td>0.0</td>\n",
       "      <td>No</td>\n",
       "    </tr>\n",
       "    <tr>\n",
       "      <th>3</th>\n",
       "      <td>8.679512e+11</td>\n",
       "      <td>5642828.0</td>\n",
       "      <td>F</td>\n",
       "      <td>2016-04-29 17:29:31</td>\n",
       "      <td>2016-04-29 00:00:00</td>\n",
       "      <td>8.0</td>\n",
       "      <td>PONTAL DE CAMBURI</td>\n",
       "      <td>0.0</td>\n",
       "      <td>0.0</td>\n",
       "      <td>0.0</td>\n",
       "      <td>0.0</td>\n",
       "      <td>0.0</td>\n",
       "      <td>0.0</td>\n",
       "      <td>No</td>\n",
       "    </tr>\n",
       "    <tr>\n",
       "      <th>4</th>\n",
       "      <td>8.841186e+12</td>\n",
       "      <td>5642494.0</td>\n",
       "      <td>F</td>\n",
       "      <td>2016-04-29 16:07:23</td>\n",
       "      <td>2016-04-29 00:00:00</td>\n",
       "      <td>56.0</td>\n",
       "      <td>JARDIM DA PENHA</td>\n",
       "      <td>0.0</td>\n",
       "      <td>1.0</td>\n",
       "      <td>1.0</td>\n",
       "      <td>0.0</td>\n",
       "      <td>0.0</td>\n",
       "      <td>0.0</td>\n",
       "      <td>No</td>\n",
       "    </tr>\n",
       "  </tbody>\n",
       "</table>\n",
       "</div>"
      ],
      "text/plain": [
       "     patient_id  applointment_id gender        scheduled_day  \\\n",
       "0  2.987250e+13        5642903.0      F  2016-04-29 18:38:08   \n",
       "1  5.589978e+14        5642503.0      M  2016-04-29 16:08:27   \n",
       "2  4.262962e+12        5642549.0      F  2016-04-29 16:19:04   \n",
       "3  8.679512e+11        5642828.0      F  2016-04-29 17:29:31   \n",
       "4  8.841186e+12        5642494.0      F  2016-04-29 16:07:23   \n",
       "\n",
       "       appointment_day   age      neighbourhood  scholarship  hipertension  \\\n",
       "0  2016-04-29 00:00:00  62.0    JARDIM DA PENHA          0.0           1.0   \n",
       "1  2016-04-29 00:00:00  56.0    JARDIM DA PENHA          0.0           0.0   \n",
       "2  2016-04-29 00:00:00  62.0      MATA DA PRAIA          0.0           0.0   \n",
       "3  2016-04-29 00:00:00   8.0  PONTAL DE CAMBURI          0.0           0.0   \n",
       "4  2016-04-29 00:00:00  56.0    JARDIM DA PENHA          0.0           1.0   \n",
       "\n",
       "   diabetes  alcoholism  handcap  sms_received no_show  \n",
       "0       0.0         0.0      0.0           0.0      No  \n",
       "1       0.0         0.0      0.0           0.0      No  \n",
       "2       0.0         0.0      0.0           0.0      No  \n",
       "3       0.0         0.0      0.0           0.0      No  \n",
       "4       1.0         0.0      0.0           0.0      No  "
      ]
     },
     "execution_count": 22,
     "metadata": {},
     "output_type": "execute_result"
    }
   ],
   "source": [
    "df.head()"
   ]
  },
  {
   "cell_type": "markdown",
   "metadata": {},
   "source": [
    "Looks OK now!"
   ]
  },
  {
   "cell_type": "markdown",
   "metadata": {},
   "source": [
    "<a id='eda'></a>\n",
    "## Exploratory Data Analysis\n",
    "\n",
    "\n",
    "### Research Question 1: Men or Women?"
   ]
  },
  {
   "cell_type": "markdown",
   "metadata": {},
   "source": [
    "To answer this question I decided to split the dataframe on men and women dataframes, and make a bar chart of the no-show column for both of them"
   ]
  },
  {
   "cell_type": "code",
   "execution_count": 23,
   "metadata": {},
   "outputs": [],
   "source": [
    "# split the dataframe into male and female dataframes\n",
    "df_men = df[df['gender'] == 'M']\n",
    "df_women = df[df['gender'] == 'F']"
   ]
  },
  {
   "cell_type": "markdown",
   "metadata": {},
   "source": [
    "To correctly plot the values, I normalize them by dividing each count by total length of dataframes"
   ]
  },
  {
   "cell_type": "code",
   "execution_count": 49,
   "metadata": {},
   "outputs": [
    {
     "data": {
      "image/png": "[encoded data removed]",
      "text/plain": [
       "<matplotlib.figure.Figure at 0x24969d0bda0>"
      ]
     },
     "metadata": {},
     "output_type": "display_data"
    }
   ],
   "source": [
    "# create subplots and plot two bars: for men and female data\n",
    "fig, ax = plt.subplots( figsize=(10,6))\n",
    "x = np.arange(2)\n",
    "width = 0.15\n",
    "ax.bar(x,df_men['no_show'].value_counts() * 100 /len(df_men), width = width, color='b', label = 'men')\n",
    "ax.bar(x + width,df_women['no_show'].value_counts() * 100 /len(df_women),width = width,color='r', label = 'women')\n",
    "plt.title('No-show based by gender',fontsize=20)\n",
    "plt.xticks(x + width/2, ['Show', 'No-show'], fontsize=20)\n",
    "plt.ylabel('Percentage', fontsize=20)\n",
    "plt.legend(fontsize=15)\n",
    "plt.show()"
   ]
  },
  {
   "cell_type": "markdown",
   "metadata": {},
   "source": [
    "These two bar charts looks pretty similar. So we can't clearly say that men or women no-show more often."
   ]
  },
  {
   "cell_type": "markdown",
   "metadata": {},
   "source": [
    "### Research Question 2: Which of the variables affect on no-show?"
   ]
  },
  {
   "cell_type": "markdown",
   "metadata": {},
   "source": [
    "#### Investigating booleans\n",
    "We have several boolean variables: scholarship, hipertension, diabetes, alcoholism,\thandcap and\tsms_received. The process for each of them is quite the same as for gender. "
   ]
  },
  {
   "cell_type": "markdown",
   "metadata": {},
   "source": [
    "Start with alcoholism."
   ]
  },
  {
   "cell_type": "code",
   "execution_count": 50,
   "metadata": {},
   "outputs": [
    {
     "data": {
      "image/png": "[encoded data removed]",
      "text/plain": [
       "<matplotlib.figure.Figure at 0x24961dfa828>"
      ]
     },
     "metadata": {},
     "output_type": "display_data"
    }
   ],
   "source": [
    "# split the initial dataframe into ones that contain patients with alcoholism and patients without alcoholism\n",
    "df_alc = df[df['alcoholism'] == 1]\n",
    "df_nalc = df[df['alcoholism'] == 0]\n",
    "\n",
    "# create subplots and plot two bars: for patients with alcoholism and without alcoholism\n",
    "fig, ax = plt.subplots( figsize=(10,6))\n",
    "x = np.arange(2)\n",
    "width = 0.15\n",
    "ax.bar(x,df_alc['no_show'].value_counts() * 100 /len(df_alc), width = width, color='r', label = 'alcoholism')\n",
    "ax.bar(x + width,df_nalc['no_show'].value_counts() * 100 /len(df_nalc),width = width,color='g', label = 'no alcoholism')\n",
    "plt.title('No-show based by alcoholism',fontsize=20)\n",
    "plt.ylabel('Percentage', fontsize=20)\n",
    "plt.xticks(x + width/2, ['Show', 'No-show'], fontsize=20)\n",
    "plt.legend(fontsize=15)\n",
    "plt.show()"
   ]
  },
  {
   "cell_type": "markdown",
   "metadata": {},
   "source": [
    "No correlation.\n",
    "\n",
    "Now scholarship:"
   ]
  },
  {
   "cell_type": "code",
   "execution_count": 52,
   "metadata": {},
   "outputs": [
    {
     "data": {
      "image/png": "[encoded data removed]",
      "text/plain": [
       "<matplotlib.figure.Figure at 0x249646ca4a8>"
      ]
     },
     "metadata": {},
     "output_type": "display_data"
    }
   ],
   "source": [
    "# split the initial dataframe into ones that contain patients with scholarship and patients without scholarship\n",
    "df_sc = df[df['scholarship'] == 1]\n",
    "df_nsc = df[df['scholarship'] == 0]\n",
    "\n",
    "# create subplots and plot two bars: for patients with scholarship and without scholarship\n",
    "fig, ax = plt.subplots( figsize=(10,6))\n",
    "x = np.arange(2)\n",
    "width = 0.15\n",
    "ax.bar(x,df_sc['no_show'].value_counts() * 100 /len(df_sc), width = width, color='b', label = 'scholarship')\n",
    "ax.bar(x + width,df_nsc['no_show'].value_counts() * 100 /len(df_nsc),width = width,color='r', label = 'no scholarship')\n",
    "plt.title('No-show based by scholarship',fontsize=20)\n",
    "plt.ylabel('Percentage', fontsize=20)\n",
    "plt.xticks(x + width/2, ['Show', 'No-show'], fontsize=20)\n",
    "plt.legend(fontsize=15)\n",
    "plt.show()"
   ]
  },
  {
   "cell_type": "markdown",
   "metadata": {},
   "source": [
    "People with scholarship tend to no-show more often, but the plots are still very similar.\n",
    "\n",
    "Hipertension:"
   ]
  },
  {
   "cell_type": "code",
   "execution_count": 59,
   "metadata": {},
   "outputs": [
    {
     "data": {
      "image/png": "[encoded data removed]",
      "text/plain": [
       "<matplotlib.figure.Figure at 0x2496d13eb00>"
      ]
     },
     "metadata": {},
     "output_type": "display_data"
    }
   ],
   "source": [
    "# split the initial dataframe into ones that contain patients with hipertension and patients without hipertension\n",
    "df_hyp = df[df['hipertension'] == 1]\n",
    "df_nhyp = df[df['hipertension'] == 0]\n",
    "\n",
    "# create subplots and plot two bars: for patients with hipertension and without hipertension\n",
    "fig, ax = plt.subplots( figsize=(10,6))\n",
    "x = np.arange(2)\n",
    "width = 0.15\n",
    "ax.bar(x,df_hyp['no_show'].value_counts() * 100 /len(df_hyp), width = width, color='r', label = 'hipertension')\n",
    "ax.bar(x + width,df_nhyp['no_show'].value_counts() * 100 /len(df_nhyp),width = width,color='g', label = 'no hipertension')\n",
    "plt.title('No-show based by hipertension',fontsize=20)\n",
    "plt.ylabel('Percentage', fontsize=20)\n",
    "plt.xticks(x + width/2, ['Show', 'No-show'], fontsize=20)\n",
    "plt.legend(fontsize=15)\n",
    "plt.show()"
   ]
  },
  {
   "cell_type": "markdown",
   "metadata": {},
   "source": [
    "Again, the correlation is not strong enough.\n",
    "\n",
    "Diabetes:"
   ]
  },
  {
   "cell_type": "code",
   "execution_count": 60,
   "metadata": {},
   "outputs": [
    {
     "data": {
      "image/png": "[encoded data removed]",
      "text/plain": [
       "<matplotlib.figure.Figure at 0x24969d60e80>"
      ]
     },
     "metadata": {},
     "output_type": "display_data"
    }
   ],
   "source": [
    "# split the initial dataframe into ones that contain patients with diabetes and patients without diabetes\n",
    "df_dia = df[df['diabetes'] == 1]\n",
    "df_ndia = df[df['diabetes'] == 0]\n",
    "\n",
    "# create subplots and plot two bars: for patients with diabetes and without diabetes\n",
    "fig, ax = plt.subplots( figsize=(10,6))\n",
    "x = np.arange(2)\n",
    "width = 0.15\n",
    "ax.bar(x,df_dia['no_show'].value_counts() * 100 /len(df_dia), width = width, color='r', label = 'diabetes')\n",
    "ax.bar(x + width,df_ndia['no_show'].value_counts() * 100 /len(df_ndia),width = width,color='g', label = 'no diabetes')\n",
    "plt.title('No-show based by diabetes',fontsize=20)\n",
    "plt.ylabel('Percentage', fontsize=20)\n",
    "plt.xticks(x + width/2, ['Show', 'No-show'], fontsize=20)\n",
    "plt.legend(fontsize=15)\n",
    "plt.show()"
   ]
  },
  {
   "cell_type": "markdown",
   "metadata": {},
   "source": [
    "Same: no strong correlation found.\n",
    "\n",
    "Handcap:"
   ]
  },
  {
   "cell_type": "code",
   "execution_count": 61,
   "metadata": {},
   "outputs": [
    {
     "data": {
      "image/png": "[encoded data removed]",
      "text/plain": [
       "<matplotlib.figure.Figure at 0x24969d733c8>"
      ]
     },
     "metadata": {},
     "output_type": "display_data"
    }
   ],
   "source": [
    "# split the initial dataframe into ones that contain patients with handcap and patients without handcap\n",
    "df_hc = df[df['handcap'] == 1]\n",
    "df_nhc = df[df['handcap'] == 0]\n",
    "\n",
    "# create subplots and plot two bars: for patients with handcap and without handcap\n",
    "fig, ax = plt.subplots( figsize=(10,6))\n",
    "x = np.arange(2)\n",
    "width = 0.15\n",
    "ax.bar(x,df_hc['no_show'].value_counts() * 100 /len(df_hc), width = width, color='b', label = 'handcap')\n",
    "ax.bar(x + width,df_nhc['no_show'].value_counts() * 100/len(df_nhc),width = width,color='g', label = 'no handcap')\n",
    "plt.title('No-show based by handcap',fontsize=20)\n",
    "plt.ylabel('Percentage', fontsize=20)\n",
    "plt.xticks(x + width/2, ['Show', 'No-show'], fontsize=20)\n",
    "plt.legend(fontsize=15)\n",
    "plt.show()"
   ]
  },
  {
   "cell_type": "markdown",
   "metadata": {},
   "source": [
    "Again no strong correlation.\n",
    "\n",
    "Sms received:"
   ]
  },
  {
   "cell_type": "code",
   "execution_count": 62,
   "metadata": {},
   "outputs": [
    {
     "data": {
      "image/png": "[encoded data removed]",
      "text/plain": [
       "<matplotlib.figure.Figure at 0x2496205d9e8>"
      ]
     },
     "metadata": {},
     "output_type": "display_data"
    }
   ],
   "source": [
    "# split the initial dataframe into ones that contain patients who recieved sms and patients who didn't\n",
    "df_sms = df[df['sms_received'] == 1]\n",
    "df_nsms = df[df['sms_received'] == 0]\n",
    "\n",
    "# create subplots and plot two bars: for patients who recieved sms and patients who didn't\n",
    "fig, ax = plt.subplots( figsize=(10,6))\n",
    "x = np.arange(2)\n",
    "width = 0.15\n",
    "ax.bar(x,df_sms['no_show'].value_counts() * 100 /len(df_sms), width = width, color='b', label = 'sms received')\n",
    "ax.bar(x + width,df_nsms['no_show'].value_counts() * 100/len(df_nsms),width = width,color='g', label = 'no sms received')\n",
    "plt.title('No-show based by sms received',fontsize=20)\n",
    "plt.ylabel('Percentage', fontsize=20)\n",
    "plt.xticks(x + width/2, ['Show', 'No-show'], fontsize=20)\n",
    "plt.legend(fontsize=15)\n",
    "plt.show()"
   ]
  },
  {
   "cell_type": "markdown",
   "metadata": {},
   "source": [
    "Here is a correlation: if a patient received 1 or more sms, the chance that he won't show almost doubles. But it probably doesn't mean causation. We don't know when the sms was sent. It probably was sent after the scheduled time. \n",
    "\n",
    "So, none of the boolean variables gave us a solid correlation. "
   ]
  },
  {
   "cell_type": "markdown",
   "metadata": {},
   "source": [
    "#### Men with alcoholism\n",
    "\n",
    "Time for 2d exploration. I want to combine gender and alcoholism and see if this combination affect the no-show column."
   ]
  },
  {
   "cell_type": "code",
   "execution_count": 66,
   "metadata": {},
   "outputs": [
    {
     "data": {
      "image/png": "[encoded data removed]",
      "text/plain": [
       "<matplotlib.figure.Figure at 0x2496a014f28>"
      ]
     },
     "metadata": {},
     "output_type": "display_data"
    }
   ],
   "source": [
    "# split the men dataframe into ones that contain men with alcoholism and men without alcoholism\n",
    "df_menal = df_men[df_men['alcoholism'] == 1]\n",
    "df_mennoal = df_men[df_men['alcoholism'] == 0]\n",
    "\n",
    "# create subplots and plot two bars: for men with alcoholism and men without alcoholism\n",
    "fig, ax = plt.subplots( figsize=(10,6))\n",
    "x = np.arange(2)\n",
    "width = 0.15\n",
    "ax.bar(x,df_menal['no_show'].value_counts() * 100 /len(df_menal), width = width, color='r', label = 'men + alcoholism')\n",
    "ax.bar(x + width,df_mennoal['no_show'].value_counts() * 100/len(df_mennoal),width = width,color='g', label = 'men without alcoholism')\n",
    "plt.title('No-show based by men + alcoholism',fontsize=20)\n",
    "plt.ylabel('Percentage', fontsize=20)\n",
    "plt.xticks(x + width/2, ['Show', 'No-show'], fontsize=20)\n",
    "plt.legend(fontsize=15)\n",
    "plt.show()"
   ]
  },
  {
   "cell_type": "markdown",
   "metadata": {},
   "source": [
    "Hence there wasn't any correlation on gender or alcoholism, the combined feature has a small correlation.\n",
    "\n",
    "#### Women with alcoholism\n",
    "\n",
    "Same exploration for women:"
   ]
  },
  {
   "cell_type": "code",
   "execution_count": 67,
   "metadata": {},
   "outputs": [
    {
     "data": {
      "image/png": "[encoded data removed]",
      "text/plain": [
       "<matplotlib.figure.Figure at 0x24961ee0748>"
      ]
     },
     "metadata": {},
     "output_type": "display_data"
    }
   ],
   "source": [
    "# split the women dataframe into ones that contain women with alcoholism and women without alcoholism\n",
    "df_wnal = df_women[df_women['alcoholism'] == 1]\n",
    "df_wnnoal = df_women[df_women['alcoholism'] == 0]\n",
    "\n",
    "# create subplots and plot two bars: for women with alcoholism and women without alcoholism\n",
    "fig, ax = plt.subplots( figsize=(10,6))\n",
    "x = np.arange(2)\n",
    "width = 0.15\n",
    "ax.bar(x,df_wnal['no_show'].value_counts() * 100 /len(df_wnal), width = width, color='r', label = 'women + alcoholism')\n",
    "ax.bar(x + width,df_wnnoal['no_show'].value_counts() * 100/len(df_wnnoal),width = width,color='g', label = 'women without alcoholism')\n",
    "plt.title('No-show based by women + alcoholism',fontsize=20)\n",
    "plt.ylabel('Percentage', fontsize=20)\n",
    "plt.xticks(x + width/2, ['Show', 'No-show'], fontsize=20)\n",
    "plt.legend(fontsize=15)\n",
    "plt.show()"
   ]
  },
  {
   "cell_type": "markdown",
   "metadata": {},
   "source": [
    "This correlation is also small, but very different! Women with alcoholism tend to no-show more often. The men's bar chartshows the opposite correlation."
   ]
  },
  {
   "cell_type": "markdown",
   "metadata": {},
   "source": [
    "#### Age exploration."
   ]
  },
  {
   "cell_type": "markdown",
   "metadata": {},
   "source": [
    "Now, I want to see some statistics about the age of patients."
   ]
  },
  {
   "cell_type": "code",
   "execution_count": 33,
   "metadata": {},
   "outputs": [
    {
     "data": {
      "text/plain": [
       "count    110527.000000\n",
       "mean         38.276791\n",
       "std          22.104561\n",
       "min           1.000000\n",
       "25%          20.000000\n",
       "50%          37.089219\n",
       "75%          55.000000\n",
       "max         115.000000\n",
       "Name: age, dtype: float64"
      ]
     },
     "execution_count": 33,
     "metadata": {},
     "output_type": "execute_result"
    }
   ],
   "source": [
    "df['age'].describe()"
   ]
  },
  {
   "cell_type": "markdown",
   "metadata": {},
   "source": [
    "Let's plot a simple histogram of this column"
   ]
  },
  {
   "cell_type": "code",
   "execution_count": 88,
   "metadata": {},
   "outputs": [
    {
     "data": {
      "image/png": "[encoded data removed]",
      "text/plain": [
       "<matplotlib.figure.Figure at 0x249642848d0>"
      ]
     },
     "metadata": {},
     "output_type": "display_data"
    }
   ],
   "source": [
    "plt.title('Age histogram', fontsize = 20)\n",
    "plt.ylabel('Number of people', fontsize=20)\n",
    "plt.xlabel('Age',fontsize=20)\n",
    "df['age'].hist(bins = 20, figsize = (14,6));"
   ]
  },
  {
   "cell_type": "markdown",
   "metadata": {},
   "source": [
    "Nothing special here. The histogram has two obvious peaks. \n",
    "- First few years of living a baby just needs medical attention to grow healthy\n",
    "- At the age of ~40 person has been working for ~20 years and probably has some disease. "
   ]
  },
  {
   "cell_type": "markdown",
   "metadata": {},
   "source": [
    "Now, I want to add a new column named \"age_str\", that indicates if the person is young (20 years or less), adult(18-55), or old(>55)"
   ]
  },
  {
   "cell_type": "code",
   "execution_count": 68,
   "metadata": {},
   "outputs": [],
   "source": [
    "# a function that filters the age into 3 groups\n",
    "def age_to_str(row):\n",
    "    if(row['age'] <= 20):\n",
    "        return 'young'\n",
    "    elif (row['age'] <=55):\n",
    "        return 'adult'\n",
    "    else:\n",
    "        return 'old'\n",
    "# creating a new column with a categorical representation of age\n",
    "df['age_str'] = df.apply(lambda row: age_to_str(row), axis = 1)"
   ]
  },
  {
   "cell_type": "code",
   "execution_count": 69,
   "metadata": {},
   "outputs": [
    {
     "data": {
      "text/html": [
       "<div>\n",
       "<style scoped>\n",
       "    .dataframe tbody tr th:only-of-type {\n",
       "        vertical-align: middle;\n",
       "    }\n",
       "\n",
       "    .dataframe tbody tr th {\n",
       "        vertical-align: top;\n",
       "    }\n",
       "\n",
       "    .dataframe thead th {\n",
       "        text-align: right;\n",
       "    }\n",
       "</style>\n",
       "<table border=\"1\" class=\"dataframe\">\n",
       "  <thead>\n",
       "    <tr style=\"text-align: right;\">\n",
       "      <th></th>\n",
       "      <th>patient_id</th>\n",
       "      <th>applointment_id</th>\n",
       "      <th>gender</th>\n",
       "      <th>scheduled_day</th>\n",
       "      <th>appointment_day</th>\n",
       "      <th>age</th>\n",
       "      <th>neighbourhood</th>\n",
       "      <th>scholarship</th>\n",
       "      <th>hipertension</th>\n",
       "      <th>diabetes</th>\n",
       "      <th>alcoholism</th>\n",
       "      <th>handcap</th>\n",
       "      <th>sms_received</th>\n",
       "      <th>no_show</th>\n",
       "      <th>age_str</th>\n",
       "    </tr>\n",
       "  </thead>\n",
       "  <tbody>\n",
       "    <tr>\n",
       "      <th>0</th>\n",
       "      <td>2.987250e+13</td>\n",
       "      <td>5642903.0</td>\n",
       "      <td>F</td>\n",
       "      <td>2016-04-29 18:38:08</td>\n",
       "      <td>2016-04-29 00:00:00</td>\n",
       "      <td>62.0</td>\n",
       "      <td>JARDIM DA PENHA</td>\n",
       "      <td>0.0</td>\n",
       "      <td>1.0</td>\n",
       "      <td>0.0</td>\n",
       "      <td>0.0</td>\n",
       "      <td>0.0</td>\n",
       "      <td>0.0</td>\n",
       "      <td>No</td>\n",
       "      <td>old</td>\n",
       "    </tr>\n",
       "    <tr>\n",
       "      <th>1</th>\n",
       "      <td>5.589978e+14</td>\n",
       "      <td>5642503.0</td>\n",
       "      <td>M</td>\n",
       "      <td>2016-04-29 16:08:27</td>\n",
       "      <td>2016-04-29 00:00:00</td>\n",
       "      <td>56.0</td>\n",
       "      <td>JARDIM DA PENHA</td>\n",
       "      <td>0.0</td>\n",
       "      <td>0.0</td>\n",
       "      <td>0.0</td>\n",
       "      <td>0.0</td>\n",
       "      <td>0.0</td>\n",
       "      <td>0.0</td>\n",
       "      <td>No</td>\n",
       "      <td>old</td>\n",
       "    </tr>\n",
       "    <tr>\n",
       "      <th>2</th>\n",
       "      <td>4.262962e+12</td>\n",
       "      <td>5642549.0</td>\n",
       "      <td>F</td>\n",
       "      <td>2016-04-29 16:19:04</td>\n",
       "      <td>2016-04-29 00:00:00</td>\n",
       "      <td>62.0</td>\n",
       "      <td>MATA DA PRAIA</td>\n",
       "      <td>0.0</td>\n",
       "      <td>0.0</td>\n",
       "      <td>0.0</td>\n",
       "      <td>0.0</td>\n",
       "      <td>0.0</td>\n",
       "      <td>0.0</td>\n",
       "      <td>No</td>\n",
       "      <td>old</td>\n",
       "    </tr>\n",
       "    <tr>\n",
       "      <th>3</th>\n",
       "      <td>8.679512e+11</td>\n",
       "      <td>5642828.0</td>\n",
       "      <td>F</td>\n",
       "      <td>2016-04-29 17:29:31</td>\n",
       "      <td>2016-04-29 00:00:00</td>\n",
       "      <td>8.0</td>\n",
       "      <td>PONTAL DE CAMBURI</td>\n",
       "      <td>0.0</td>\n",
       "      <td>0.0</td>\n",
       "      <td>0.0</td>\n",
       "      <td>0.0</td>\n",
       "      <td>0.0</td>\n",
       "      <td>0.0</td>\n",
       "      <td>No</td>\n",
       "      <td>young</td>\n",
       "    </tr>\n",
       "    <tr>\n",
       "      <th>4</th>\n",
       "      <td>8.841186e+12</td>\n",
       "      <td>5642494.0</td>\n",
       "      <td>F</td>\n",
       "      <td>2016-04-29 16:07:23</td>\n",
       "      <td>2016-04-29 00:00:00</td>\n",
       "      <td>56.0</td>\n",
       "      <td>JARDIM DA PENHA</td>\n",
       "      <td>0.0</td>\n",
       "      <td>1.0</td>\n",
       "      <td>1.0</td>\n",
       "      <td>0.0</td>\n",
       "      <td>0.0</td>\n",
       "      <td>0.0</td>\n",
       "      <td>No</td>\n",
       "      <td>old</td>\n",
       "    </tr>\n",
       "  </tbody>\n",
       "</table>\n",
       "</div>"
      ],
      "text/plain": [
       "     patient_id  applointment_id gender        scheduled_day  \\\n",
       "0  2.987250e+13        5642903.0      F  2016-04-29 18:38:08   \n",
       "1  5.589978e+14        5642503.0      M  2016-04-29 16:08:27   \n",
       "2  4.262962e+12        5642549.0      F  2016-04-29 16:19:04   \n",
       "3  8.679512e+11        5642828.0      F  2016-04-29 17:29:31   \n",
       "4  8.841186e+12        5642494.0      F  2016-04-29 16:07:23   \n",
       "\n",
       "       appointment_day   age      neighbourhood  scholarship  hipertension  \\\n",
       "0  2016-04-29 00:00:00  62.0    JARDIM DA PENHA          0.0           1.0   \n",
       "1  2016-04-29 00:00:00  56.0    JARDIM DA PENHA          0.0           0.0   \n",
       "2  2016-04-29 00:00:00  62.0      MATA DA PRAIA          0.0           0.0   \n",
       "3  2016-04-29 00:00:00   8.0  PONTAL DE CAMBURI          0.0           0.0   \n",
       "4  2016-04-29 00:00:00  56.0    JARDIM DA PENHA          0.0           1.0   \n",
       "\n",
       "   diabetes  alcoholism  handcap  sms_received no_show age_str  \n",
       "0       0.0         0.0      0.0           0.0      No     old  \n",
       "1       0.0         0.0      0.0           0.0      No     old  \n",
       "2       0.0         0.0      0.0           0.0      No     old  \n",
       "3       0.0         0.0      0.0           0.0      No   young  \n",
       "4       1.0         0.0      0.0           0.0      No     old  "
      ]
     },
     "execution_count": 69,
     "metadata": {},
     "output_type": "execute_result"
    }
   ],
   "source": [
    "df.head()"
   ]
  },
  {
   "cell_type": "markdown",
   "metadata": {},
   "source": [
    "And now I want to make a pie plots of show and no-show entries based by ages."
   ]
  },
  {
   "cell_type": "code",
   "execution_count": 70,
   "metadata": {},
   "outputs": [],
   "source": [
    "df_showage = df[df['no_show'] == 'Yes']\n",
    "df_noshowage = df[df['no_show'] == 'No']"
   ]
  },
  {
   "cell_type": "code",
   "execution_count": 99,
   "metadata": {},
   "outputs": [
    {
     "data": {
      "image/png": "[encoded data removed]",
      "text/plain": [
       "<matplotlib.figure.Figure at 0x2496465a080>"
      ]
     },
     "metadata": {},
     "output_type": "display_data"
    }
   ],
   "source": [
    "plt.title(\"Percentage of people from various age groups that didn't show up\",fontsize = 15)\n",
    "(df_showage['age_str'].value_counts() * 100 / len(df_showage)).plot(kind = 'pie', fontsize = 15);"
   ]
  },
  {
   "cell_type": "code",
   "execution_count": 100,
   "metadata": {},
   "outputs": [
    {
     "data": {
      "image/png": "[encoded data removed]",
      "text/plain": [
       "<matplotlib.figure.Figure at 0x24969ceb6d8>"
      ]
     },
     "metadata": {},
     "output_type": "display_data"
    }
   ],
   "source": [
    "plt.title(\"Percentage of people from various age groups that show up\",fontsize = 15)\n",
    "(df_noshowage['age_str'].value_counts() * 100 / len(df_noshowage)).plot(kind = 'pie', fontsize = 15);"
   ]
  },
  {
   "cell_type": "markdown",
   "metadata": {},
   "source": [
    "Again, these two pie charts are identical. So the age doens't matter too."
   ]
  },
  {
   "cell_type": "markdown",
   "metadata": {},
   "source": [
    "<a id='conclusions'></a>\n",
    "## Conclusions\n",
    "\n",
    "### Results: our data suggests that:\n",
    "\n",
    "1. Men and women don't show an appointment equally often. \n",
    "2. Having alcoholism, hypertension, scholarship, diabetes or handcap doesn't seem to make people more likely to miss an appointment.\n",
    "3. Age groups distribution is the same for those who missed the appointment and for those who didn't.\n",
    "\n",
    "### Limitations:\n",
    "\n",
    "1. Most of the variables are categorical, so it's hard to find some strong correlations.\n",
    "2. The \"appointment_day\" column doesn't contain information about time, so we can't analyse it properly. Maybe people tend to miss an appointment in early morning or in some rush hour.\n",
    "3. The \"sms_received\" column is not well described. We don't know if the patient received an sms before the actual appointment or when she already missed the time. "
   ]
  },
  {
   "cell_type": "code",
   "execution_count": 1,
   "metadata": {},
   "outputs": [
    {
     "data": {
      "text/plain": [
       "0"
      ]
     },
     "execution_count": 1,
     "metadata": {},
     "output_type": "execute_result"
    }
   ],
   "source": [
    "from subprocess import call\n",
    "call(['python', '-m', 'nbconvert', 'Investigate_a_Dataset.ipynb'])"
   ]
  },
  {
   "cell_type": "code",
   "execution_count": null,
   "metadata": {},
   "outputs": [],
   "source": []
  }
 ],
 "metadata": {
  "kernelspec": {
   "display_name": "Python 3",
   "language": "python",
   "name": "python3"
  },
  "language_info": {
   "codemirror_mode": {
    "name": "ipython",
    "version": 3
   },
   "file_extension": ".py",
   "mimetype": "text/x-python",
   "name": "python",
   "nbconvert_exporter": "python",
   "pygments_lexer": "ipython3",
   "version": "3.6.4"
  }
 },
 "nbformat": 4,
 "nbformat_minor": 2
}
